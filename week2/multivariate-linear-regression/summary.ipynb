{
 "nbformat": 4,
 "nbformat_minor": 2,
 "metadata": {
  "language_info": {
   "name": "python",
   "codemirror_mode": {
    "name": "ipython",
    "version": 3
   }
  },
  "orig_nbformat": 2,
  "file_extension": ".py",
  "mimetype": "text/x-python",
  "name": "python",
  "npconvert_exporter": "python",
  "pygments_lexer": "ipython3",
  "version": 3
 },
 "cells": [
  {
   "cell_type": "markdown",
   "execution_count": null,
   "metadata": {},
   "outputs": [],
   "source": [
    "# Multivariate Linear Regression"
   ]
  },
  {
   "cell_type": "markdown",
   "execution_count": null,
   "metadata": {},
   "outputs": [],
   "source": [
    "## Multiple Features\n",
    "\n",
    "Linear regression with multiple variables is also known as \"multivariate linear regression\".\n",
    "\n",
    "We now introduce notation for equations where we can have any number of input variables.\n",
    "\n",
    "$x_{j}^{(i)}$ = value of feature $j$ in the $i^{t h}$ training example\n",
    "\n",
    "$x^{(i)}$ = the input (features) of the $i^{t h}$ training example\n",
    "\n",
    "$m$ = the number of training examples\n",
    "\n",
    "$n$ = the number of features\n",
    "\n",
    "The multivariable form of the hypothesis function accommodating these multiple features is as follows:\n",
    "\n",
    "$$\n",
    "h_{\\theta}(x)=\\theta_{0}+\\theta_{1} x_{1}+\\theta_{2} x_{2}+\\theta_{3} x_{3}+\\cdots+\\theta_{n} x_{n}\n",
    "$$\n",
    "\n",
    "In order to develop intuition about this function, we can think about $\\theta_0$ as the basic price of a house, $\\theta_1$ as the price per square meter, $\\theta_2$ as the price per floor, etc. $x_1$ will be the number of square meters in the house, $x_2$ the number of floors, etc.\n",
    "\n",
    "Using the definition of matrix multiplication, our multivariable hypothesis function can be concisely represented as:\n",
    "\n",
    "$$\n",
    "h_{\\theta}(x)=\\left[\\begin{array}{llll}\n",
    "{\\theta_{0}} & {\\theta_{1}} & {\\ldots} & {\\theta_{n}}\n",
    "\\end{array}\\right]\\left[\\begin{array}{c}\n",
    "{x_{0}} \\\\\n",
    "{x_{1}} \\\\\n",
    "{\\vdots} \\\\\n",
    "{x_{n}}\n",
    "\\end{array}\\right]=\\theta^{T} x\n",
    "$$\n",
    "\n",
    "Remark: Note that for convenience reasons in this course we assume $x_0^{(i)}=1$ for (i∈1,…,m). This allows us to do matrix operations with theta and x. Hence making the two vectors $\\theta$ and $x^{(i)}$ match each other element-wise (that is, have the same number of elements: n+1)"
   ]
  },
  {
   "cell_type": "markdown",
   "execution_count": null,
   "metadata": {},
   "outputs": [],
   "source": [
    "## Gradient Descent For Multiple Variables\n",
    "\n",
    "The gradient descent equation itself is generally the same form; we just have to repeat it for our 'n' features:\n",
    "\n",
    "repeat until convergence:\n",
    "\n",
    "$$\n",
    "\\theta_{j}:=\\theta_{j}-\\alpha \\frac{1}{m} \\sum_{i=1}^{m}\\left(h_{\\theta}\\left(x^{(i)}\\right)-y^{(i)}\\right) \\cdot x_{j}^{(i)} \\quad \\text { for } j:=0 \\ldots n\n",
    "$$\n",
    "\n",
    "The following image compares gradient descent with one variable to gradient descent with multiple variables:\n",
    "\n",
    "![gradient descent](../images/gradient-descent.png)"
   ]
  },
  {
   "cell_type": "markdown",
   "execution_count": null,
   "metadata": {},
   "outputs": [],
   "source": [
    "## Gradient Descent in Practice I - Feature Scaling\n",
    "\n",
    "We can speed up gradient descent by having each of our input values in roughly the same range. This is because $\\theta$ will descend quickly on small ranges and slowly on large ranges, and so will oscillate inefficiently down to the optimum when the variables are very uneven.\n",
    "\n",
    "The way to prevent this is to modify the ranges of our input variables so that they are all roughly the same. Ideally:\n",
    "$-1 \\le x_{(i)} \\le 1$ or $-0.5 \\le x_{(i)} \\le 0.5$\n",
    "\n",
    "These aren't exact requirements; we are only trying to speed things up. The goal is to get all input variables into roughly one of these ranges, give or take a few.\n",
    "\n",
    "Two techniques to help with this are feature scaling and mean normalization. Feature scaling involves dividing the input values by the range (i.e. the maximum value minus the minimum value) of the input variable, resulting in a new range of just 1. Mean normalization involves subtracting the average value for an input variable from the values for that input variable resulting in a new average value for the input variable of just zero. To implement both of these techniques, adjust your input values as shown in this formula:\n",
    "\n",
    "$x_i := \\dfrac{x_i - \\mu_i}{s_i}$\n",
    "\n",
    "Where μi is the average of all the values for feature (i) and $s_i$ is the range of values (max - min), or $s_i$ is the standard deviation."
   ]
  },
  {
   "cell_type": "markdown",
   "execution_count": null,
   "metadata": {},
   "outputs": [],
   "source": [
    "## Gradient Descent in Practice II - Learning Rate\n",
    "\n",
    "**Debugging gradient descent.** Make a plot with number of iterations on the x-axis. Now plot the cost function, J(θ) over the number of iterations of gradient descent. If J(θ) ever increases, then you probably need to decrease α.\n",
    "\n",
    "**Automatic convergence test.** Declare convergence if J(θ) decreases by less than E in one iteration, where E is some small value such as $10^{−3}$. However in practice it's difficult to choose this threshold value.\n",
    "\n",
    "![gradient descent 2](../images/gradient-descent-2.png)\n",
    "\n",
    "It has been proven that if learning rate $\\alpha$ is sufficiently small, then J($\\theta$) will decrease on every iteration.\n",
    "\n",
    "![gradient descent 3](../images/gradient-descent-3.png)\n",
    "\n",
    "To summarize:\n",
    "\n",
    "If $\\alpha$ is too small: slow convergence.\n",
    "\n",
    "If $\\alpha$ is too large: ￼may not decrease on every iteration and thus may not converge."
   ]
  },
  {
   "cell_type": "markdown",
   "execution_count": null,
   "metadata": {},
   "outputs": [],
   "source": [
    "## Features and Polynomial Regression\n",
    "\n",
    "We can improve our features and the form of our hypothesis function in a couple different ways.\n",
    "\n",
    "We can combine multiple features into one. For example, we can combine $x_1$ and $x_2$ into a new feature $x_3$ by taking $x_1$, $x_2$\n",
    "\n",
    "**Polynomial Regression**\n",
    "\n",
    "Our hypothesis function need not be linear (a straight line) if that does not fit the data well.\n",
    "\n",
    "We can change the behavior or curve of our hypothesis function by making it a quadratic, cubic or square root function (or any other form).\n",
    "\n",
    "For example, if our hypothesis function is $h_\\theta(x) = \\theta_0 + \\theta_1 x_1$ then we can create additional features based on $x_1$, to get the quadratic function $h_\\theta(x) = \\theta_0 + \\theta_1 x_1 + \\theta_2 x_1^2$ or the cubic function $h_\\theta(x) = \\theta_0 + \\theta_1 x_1 + \\theta_2 x_1^2 + \\theta_3 x_1^3$\n",
    "\n",
    "In the cubic version, we have created new features $x_2$ and $x_3$ where $x_2$ = $x_1^2$ and $x_3 = x_1^3$.\n",
    "\n",
    "To make it a square root function, we could do: $h_\\theta(x) = \\theta_0 + \\theta_1 x_1 + \\theta_2 \\sqrt{x_1}$\n",
    "\n",
    "One important thing to keep in mind is, if you choose your features this way then feature scaling becomes very important.\n",
    "\n",
    "eg. if $x_1$ has range 1 - 1000 then range of $x_1^2$ becomes 1 - 1000000 and that of $x_1^3$ becomes 1 - 1000000000"
   ]
  },
  {
   "cell_type": "code",
   "execution_count": null,
   "metadata": {},
   "outputs": [],
   "source": []
  }
 ]
}