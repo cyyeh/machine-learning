{
 "nbformat": 4,
 "nbformat_minor": 2,
 "metadata": {
  "language_info": {
   "name": "python",
   "codemirror_mode": {
    "name": "ipython",
    "version": 3
   }
  },
  "orig_nbformat": 2,
  "file_extension": ".py",
  "mimetype": "text/x-python",
  "name": "python",
  "npconvert_exporter": "python",
  "pygments_lexer": "ipython3",
  "version": 3
 },
 "cells": [
  {
   "cell_type": "markdown",
   "execution_count": null,
   "metadata": {},
   "outputs": [],
   "source": [
    "# Regularization"
   ]
  },
  {
   "cell_type": "markdown",
   "execution_count": null,
   "metadata": {},
   "outputs": [],
   "source": [
    "## Solving the Problem of Overfitting"
   ]
  },
  {
   "cell_type": "markdown",
   "execution_count": null,
   "metadata": {},
   "outputs": [],
   "source": [
    "### The Problem of Overfitting\n",
    "\n",
    "Consider the problem of predicting y from x ∈ R. The leftmost figure below shows the result of fitting a $y = θ_0+θ_1x$ to a dataset. We see that the data doesn’t really lie on straight line, and so the fit is not very good.\n",
    "\n",
    "![overfitting](../images/overfitting.png)\n",
    "\n",
    "Instead, if we had added an extra feature $x^2$, and fit $y = \\theta_0 + \\theta_1x + \\theta_2x^2$, then we obtain a slightly better fit to the data (See middle figure). Naively, it might seem that the more features we add, the better. However, there is also a danger in adding too many features: The rightmost figure is the result of fitting a $5^{th}$ order polynomial $y = \\sum_{j=0} ^5 \\theta_j x^j$. We see that even though the fitted curve passes through the data perfectly, we would not expect this to be a very good predictor of, say, housing prices (y) for different living areas (x). Without formally defining what these terms mean, we’ll say the figure on the left shows an instance of underfitting—in which the data clearly shows structure not captured by the model—and the figure on the right is an example of overfitting.\n",
    "\n",
    "Underfitting, or high bias, is when the form of our hypothesis function h maps poorly to the trend of the data. It is usually caused by a function that is too simple or uses too few features. At the other extreme, overfitting, or high variance, is caused by a hypothesis function that fits the available data but does not generalize well to predict new data. It is usually caused by a complicated function that creates a lot of unnecessary curves and angles unrelated to the data.\n",
    "\n",
    "This terminology is applied to both linear and logistic regression. There are two main options to address the issue of overfitting:\n",
    "\n",
    "1) Reduce the number of features:\n",
    "\n",
    "- Manually select which features to keep.\n",
    "- Use a model selection algorithm (studied later in the course).\n",
    "\n",
    "2) Regularization\n",
    "\n",
    "- Keep all the features, but reduce the magnitude of parameters $\\theta_j$.\n",
    "- Regularization works well when we have a lot of slightly useful features."
   ]
  },
  {
   "cell_type": "markdown",
   "execution_count": null,
   "metadata": {},
   "outputs": [],
   "source": [
    "### Cost Function\n",
    "\n",
    "If we have overfitting from our hypothesis function, we can reduce the weight that some of the terms in our function carry by increasing their cost.\n",
    "\n",
    "Say we wanted to make the following function more quadratic:\n",
    "\n",
    "$$\n",
    "\\theta_{0}+\\theta_{1} x+\\theta_{2} x^{2}+\\theta_{3} x^{3}+\\theta_{4} x^{4}\n",
    "$$\n",
    "\n",
    "We'll want to eliminate the influence of $\\theta_3x^3$ and $\\theta_4x^4$. Without actually getting rid of these features or changing the form of our hypothesis, we can instead modify our cost function:\n",
    "\n",
    "$$\n",
    "\\min _{\\theta} \\frac{1}{2 m} \\sum_{i=1}^{m}\\left(h_{\\theta}\\left(x^{(i)}\\right)-y^{(i)}\\right)^{2}+1000 \\cdot \\theta_{3}^{2}+1000 \\cdot \\theta_{4}^{2}\n",
    "$$\n",
    "\n",
    "We've added two extra terms at the end to inflate the cost of $\\theta_3$ and $\\theta_4θ$. Now, in order for the cost function to get close to zero, we will have to reduce the values of $\\theta_3$ and $\\theta_4$ to near zero. This will in turn greatly reduce the values of $\\theta_3x^3$ and $\\theta_4x^4$ in our hypothesis function. As a result, we see that the new hypothesis (depicted by the pink curve) looks like a quadratic function but fits the data better due to the extra small terms $\\theta_3x^3$ and $\\theta_4x^4$.\n",
    "\n",
    "![overfitting 2](../images/overfitting-2.png)\n",
    "\n",
    "We could also regularize all of our theta parameters in a single summation as:\n",
    "\n",
    "$$\n",
    "\\min _{\\theta} \\frac{1}{2 m} \\sum_{i=1}^{m}\\left(h_{\\theta}\\left(x^{(i)}\\right)-y^{(i)}\\right)^{2}+\\lambda \\sum_{j=1}^{n} \\theta_{j}^{2}\n",
    "$$\n",
    "\n",
    "The λ, or lambda, is the regularization parameter. It determines how much the costs of our theta parameters are inflated.\n",
    "\n",
    "Using the above cost function with the extra summation, we can smooth the output of our hypothesis function to reduce overfitting. If lambda is chosen to be too large, it may smooth out the function too much and cause underfitting. Hence, what would happen if \\lambda = 0λ=0 or is too small ?"
   ]
  },
  {
   "cell_type": "markdown",
   "execution_count": null,
   "metadata": {},
   "outputs": [],
   "source": [
    "### Regularized Linear Regression\n",
    "\n",
    "We can apply regularization to both linear regression and logistic regression. We will approach linear regression first.\n",
    "\n",
    "**Gradient Descent**\n",
    "\n",
    "We will modify our gradient descent function to separate out $\\theta_0$ from the rest of the parameters because we do not want to penalize $\\theta_0$.\n",
    "\n",
    "Repeat {\n",
    "$$\n",
    "\\theta_{0}:=\\theta_{0}-\\alpha \\frac{1}{m} \\sum_{i=1}^{m}\\left(h_{\\theta}\\left(x^{(i)}\\right)-y^{(i)}\\right) x_{0}^{(i)}\n",
    "$$\n",
    "\n",
    "$$\n",
    "\\theta_{j}:=\\theta_{j}-\\alpha\\left[\\left(\\frac{1}{m} \\sum_{i=1}^{m}\\left(h_{\\theta}\\left(x^{(i)}\\right)-y^{(i)}\\right) x_{j}^{(i)}\\right)+\\frac{\\lambda}{m} \\theta_{j}\\right] \\quad j \\in\\{1,2 \\ldots n\\}\n",
    "$$\n",
    "}"
   ]
  },
  {
   "cell_type": "code",
   "execution_count": null,
   "metadata": {},
   "outputs": [],
   "source": []
  }
 ]
}